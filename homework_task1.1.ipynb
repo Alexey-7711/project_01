{
  "nbformat": 4,
  "nbformat_minor": 0,
  "metadata": {
    "colab": {
      "provenance": []
    },
    "kernelspec": {
      "name": "python3",
      "display_name": "Python 3"
    },
    "language_info": {
      "name": "python"
    }
  },
  "cells": [
    {
      "cell_type": "markdown",
      "source": [
        "\n"
      ],
      "metadata": {
        "id": "upGTvQYLeQgo"
      }
    },
    {
      "cell_type": "code",
      "source": [
        "# Задача 1.1.\n",
        "\n",
        "# Есть строка с перечислением песен\n",
        "\n",
        "my_favorite_songs = 'Waste a Moment, Staying\\' Alive, A Sorta Fairytale, Start Me Up, New Salvation'\n",
        "\n",
        "# Выведите на консоль с помощью индексации строки, последовательно: первый трек, последний, второй, второй с конца\n",
        "# Нельзя переопределять my_favorite_songs и запятая не должна выводиться."
      ],
      "metadata": {
        "id": "mM9xavwhhqfR"
      },
      "execution_count": null,
      "outputs": []
    },
    {
      "cell_type": "markdown",
      "source": [],
      "metadata": {
        "id": "URcVLh9DZ8_A"
      }
    },
    {
      "cell_type": "code",
      "source": [
        "# \"Waste a Moment\" , \"Staying\\' Alive\" , \"A Sorta Fairytale\" , \"Start Me Up\" , \"New Salvation\"\n",
        "greeting = \"Waste a Moment\" , \"Staying\\' Alive\" , \"A Sorta Fairytale\" , \"Start Me Up\" , \"New Salvation\"\n",
        "print(greeting[0])\n",
        "print(greeting[-1])\n",
        "print(greeting[1])\n",
        "print(greeting[-2])"
      ],
      "metadata": {
        "colab": {
          "base_uri": "https://localhost:8080/"
        },
        "id": "NTMbMhwec9WP",
        "outputId": "aca99735-e4e6-466d-8252-1c91409cd537"
      },
      "execution_count": null,
      "outputs": [
        {
          "output_type": "stream",
          "name": "stdout",
          "text": [
            "Waste a Moment\n",
            "New Salvation\n",
            "Staying' Alive\n",
            "Start Me Up\n"
          ]
        }
      ]
    }
  ]
}
